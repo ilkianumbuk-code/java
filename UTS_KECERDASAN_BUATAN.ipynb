{
  "nbformat": 4,
  "nbformat_minor": 0,
  "metadata": {
    "colab": {
      "provenance": [],
      "authorship_tag": "ABX9TyPNUVSYhi/0N+VBw59Q23gb",
      "include_colab_link": true
    },
    "kernelspec": {
      "name": "python3",
      "display_name": "Python 3"
    },
    "language_info": {
      "name": "python"
    }
  },
  "cells": [
    {
      "cell_type": "markdown",
      "metadata": {
        "id": "view-in-github",
        "colab_type": "text"
      },
      "source": [
        "<a href=\"https://colab.research.google.com/github/ilkianumbuk-code/java/blob/main/UTS_KECERDASAN_BUATAN.ipynb\" target=\"_parent\"><img src=\"https://colab.research.google.com/assets/colab-badge.svg\" alt=\"Open In Colab\"/></a>"
      ]
    },
    {
      "cell_type": "code",
      "source": [
        "\n",
        "# SISTEM NAVIGASI ROBOT DENGAN A*\n",
        "\n",
        "\n",
        "import heapq\n",
        "import numpy as np\n",
        "import matplotlib.pyplot as plt\n",
        "\n",
        "# 1. Buat peta grid 20x20\n",
        "# 0 = jalan biasa, 1 = obstacle, 2 = jalur berdebu, 3 = jalur licin\n",
        "grid = np.random.choice([0, 0, 0, 1, 2, 3], size=(20,20))\n",
        "start = (0, 0)     # posisi awal\n",
        "goal = (19, 19)    # posisi tujuan\n",
        "grid[start] = 0\n",
        "grid[goal] = 0\n",
        "\n",
        "# 2. Fungsi heuristic (jarak antara titik sekarang dan tujuan)\n",
        "def heuristic(a, b):\n",
        "    return abs(a[0] - b[0]) + abs(a[1] - b[1])  # Manhattan distance\n",
        "\n",
        "# 3. Implementasi algoritma A*\n",
        "def a_star(grid, start, goal):\n",
        "    rows, cols = grid.shape\n",
        "    # open_list menyimpan titik yang akan dikunjungi\n",
        "    open_list = []\n",
        "    heapq.heappush(open_list, (0 + heuristic(start, goal), 0, start, [start]))\n",
        "    visited = set()\n",
        "\n",
        "    while open_list:\n",
        "        f, cost, current, path = heapq.heappop(open_list)\n",
        "\n",
        "        # Jika sudah sampai di tujuan, kembalikan jalur dan biayanya\n",
        "        if current == goal:\n",
        "            return path, cost\n",
        "\n",
        "        if current in visited:\n",
        "            continue\n",
        "        visited.add(current)\n",
        "\n",
        "        # Cek semua arah (atas, bawah, kiri, kanan)\n",
        "        for dx, dy in [(0,1), (0,-1), (1,0), (-1,0)]:\n",
        "            x, y = current[0] + dx, current[1] + dy\n",
        "            if 0 <= x < rows and 0 <= y < cols and grid[x][y] != 1:\n",
        "                # Tambahkan cost sesuai jenis jalurnya\n",
        "                new_cost = cost + (1 if grid[x][y] == 0 else grid[x][y])\n",
        "                heapq.heappush(open_list, (\n",
        "                    new_cost + heuristic((x, y), goal),\n",
        "                    new_cost,\n",
        "                    (x, y),\n",
        "                    path + [(x, y)]\n",
        "                ))\n",
        "    return None, float('inf')  # jika tidak ada jalur\n",
        "\n",
        "# 4. Jalankan algoritma\n",
        "path, cost = a_star(grid, start, goal)\n",
        "print(\"Total Biaya (Cost):\", cost)\n",
        "print(\"Panjang Jalur:\", len(path))\n",
        "print(\"Jalur yang ditemukan:\", path)\n",
        "\n",
        "# 5. Visualisasi hasil\n",
        "plt.imshow(grid, cmap='terrain')\n",
        "for (x, y) in path:\n",
        "    plt.scatter(y, x, c='red', s=20)  # tampilkan jalur robot\n",
        "plt.title(\"Jalur Robot dari Start ke Goal\")\n",
        "plt.show()\n",
        "\n",
        "\n",
        "\n"
      ],
      "metadata": {
        "colab": {
          "base_uri": "https://localhost:8080/",
          "height": 524
        },
        "id": "IsZuQpvo78Ip",
        "outputId": "88a2fcd9-c1d9-45e3-f4a9-d456480a54ce",
        "collapsed": true
      },
      "execution_count": null,
      "outputs": [
        {
          "output_type": "stream",
          "name": "stdout",
          "text": [
            "Total Biaya (Cost): 41\n",
            "Panjang Jalur: 39\n",
            "Jalur yang ditemukan: [(0, 0), (0, 1), (0, 2), (0, 3), (0, 4), (1, 4), (2, 4), (2, 5), (3, 5), (3, 6), (4, 6), (4, 7), (5, 7), (5, 8), (5, 9), (5, 10), (6, 10), (7, 10), (8, 10), (9, 10), (10, 10), (10, 11), (10, 12), (10, 13), (11, 13), (12, 13), (13, 13), (14, 13), (14, 14), (15, 14), (15, 15), (15, 16), (15, 17), (15, 18), (16, 18), (16, 19), (17, 19), (18, 19), (19, 19)]\n"
          ]
        },
        {
          "output_type": "display_data",
          "data": {
            "text/plain": [
              "<Figure size 640x480 with 1 Axes>"
            ],
            "image/png": "[encoded data removed]"
          },
          "metadata": {}
        }
      ]
    },
    {
      "cell_type": "code",
      "source": [
        "\n",
        "# SISTEM PENJADWALAN KULIAH (CSP)\n",
        "\n",
        "\n",
        "# 1. Data mata kuliah dan dosen\n",
        "courses = {\n",
        "    'MK1': 'Dosen_A', 'MK2': 'Dosen_B', 'MK3': 'Dosen_A', 'MK4': 'Dosen_B',\n",
        "    'MK5': 'Dosen_C', 'MK6': 'Dosen_D', 'MK7': 'Dosen_C', 'MK8': 'Dosen_D'\n",
        "}\n",
        "\n",
        "# 2. Pasangan mata kuliah yang tidak boleh bentrok\n",
        "conflicts = [\n",
        "    ('MK1', 'MK2'), ('MK3', 'MK4'), ('MK5', 'MK6'),\n",
        "    ('MK1', 'MK3'), ('MK2', 'MK5'), ('MK4', 'MK7')\n",
        "]\n",
        "\n",
        "# 3. Daftar slot waktu (1-8)\n",
        "slots = list(range(1, 9))\n",
        "schedule = {}\n",
        "\n",
        "# 4. Fungsi pengecekan constraint\n",
        "def is_consistent(course, slot):\n",
        "    for c, s in schedule.items():\n",
        "        if s == slot:  # slot sudah diisi MK lain\n",
        "            return False\n",
        "        if courses[c] == courses[course] and s == slot:  # dosen sama bentrok\n",
        "            return False\n",
        "        if (course, c) in conflicts or (c, course) in conflicts:  # mahasiswa bentrok\n",
        "            if s == slot:\n",
        "                return False\n",
        "    return True\n",
        "\n",
        "# 5. Fungsi Backtracking\n",
        "def backtrack():\n",
        "    if len(schedule) == len(courses):\n",
        "        return True\n",
        "    course = [c for c in courses if c not in schedule][0]\n",
        "    for slot in slots:\n",
        "        if is_consistent(course, slot):\n",
        "            schedule[course] = slot\n",
        "            if backtrack():\n",
        "                return True\n",
        "            del schedule[course]\n",
        "    return False\n",
        "\n",
        "# 6. Jalankan CSP\n",
        "backtrack()\n",
        "\n",
        "# 7. Tampilkan hasil akhir\n",
        "print(\"=== Jadwal Akhir Mata Kuliah ===\")\n",
        "for mk, slot in schedule.items():\n",
        "    day = \"Senin\" if slot <= 4 else \"Selasa\"\n",
        "    time = [\"08:00-10:00\",\"10:00-12:00\",\"13:00-15:00\",\"15:00-17:00\"][slot%4 - 1]\n",
        "    print(f\"{mk:<5} | {courses[mk]:<8} | {day:<6} | {time}\")\n"
      ],
      "metadata": {
        "colab": {
          "base_uri": "https://localhost:8080/"
        },
        "id": "dCaDVjE28SMO",
        "outputId": "b50bb0db-89e6-4e3f-9811-bc262e5956b4"
      },
      "execution_count": null,
      "outputs": [
        {
          "output_type": "stream",
          "name": "stdout",
          "text": [
            "=== Jadwal Akhir Mata Kuliah ===\n",
            "MK1   | Dosen_A  | Senin  | 08:00-10:00\n",
            "MK2   | Dosen_B  | Senin  | 10:00-12:00\n",
            "MK3   | Dosen_A  | Senin  | 13:00-15:00\n",
            "MK4   | Dosen_B  | Senin  | 15:00-17:00\n",
            "MK5   | Dosen_C  | Selasa | 08:00-10:00\n",
            "MK6   | Dosen_D  | Selasa | 10:00-12:00\n",
            "MK7   | Dosen_C  | Selasa | 13:00-15:00\n",
            "MK8   | Dosen_D  | Selasa | 15:00-17:00\n"
          ]
        }
      ]
    }
  ]
}